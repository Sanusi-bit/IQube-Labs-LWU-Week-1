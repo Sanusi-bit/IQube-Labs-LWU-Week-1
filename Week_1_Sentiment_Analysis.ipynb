{
 "cells": [
  {
   "cell_type": "code",
   "execution_count": 2,
   "metadata": {
    "colab": {
     "base_uri": "https://localhost:8080/"
    },
    "id": "ATCBIOfTs8ap",
    "outputId": "eb25b502-3941-4fa0-ee2d-d9cb3d4e4182"
   },
   "outputs": [
    {
     "name": "stdout",
     "output_type": "stream",
     "text": [
      "Mounted at /content/gdrive\n"
     ]
    }
   ],
   "source": [
    "from google.colab import drive\n",
    "drive.mount('/content/gdrive')"
   ]
  },
  {
   "cell_type": "code",
   "execution_count": 21,
   "metadata": {
    "id": "9WxRjs55stoC"
   },
   "outputs": [],
   "source": [
    "import pandas as pd\n",
    "import numpy as np\n",
    "import matplotlib.pyplot as plt\n",
    "import seaborn as sns\n",
    "from textblob import TextBlob\n",
    "\n",
    "import warnings\n",
    "warnings.filterwarnings('ignore')"
   ]
  },
  {
   "cell_type": "code",
   "execution_count": 22,
   "metadata": {
    "id": "BdSMTJ99toeF"
   },
   "outputs": [],
   "source": [
    "#df=pd.read_csv('/content/gdrive/MyDrive/text-tweets.csv',encoding= 'latin-1')\n",
    "df=pd.read_csv('text-query-tweets.csv')"
   ]
  },
  {
   "cell_type": "code",
   "execution_count": 23,
   "metadata": {
    "colab": {
     "base_uri": "https://localhost:8080/",
     "height": 462
    },
    "id": "kUY2-i3Rstor",
    "outputId": "911f4df5-a7d2-44e5-ea6f-be876964c349"
   },
   "outputs": [
    {
     "data": {
      "text/html": [
       "<div>\n",
       "<style scoped>\n",
       "    .dataframe tbody tr th:only-of-type {\n",
       "        vertical-align: middle;\n",
       "    }\n",
       "\n",
       "    .dataframe tbody tr th {\n",
       "        vertical-align: top;\n",
       "    }\n",
       "\n",
       "    .dataframe thead th {\n",
       "        text-align: right;\n",
       "    }\n",
       "</style>\n",
       "<table border=\"1\" class=\"dataframe\">\n",
       "  <thead>\n",
       "    <tr style=\"text-align: right;\">\n",
       "      <th></th>\n",
       "      <th>url</th>\n",
       "      <th>date</th>\n",
       "      <th>content</th>\n",
       "      <th>renderedContent</th>\n",
       "      <th>id</th>\n",
       "      <th>user</th>\n",
       "      <th>outlinks</th>\n",
       "      <th>tcooutlinks</th>\n",
       "      <th>replyCount</th>\n",
       "      <th>retweetCount</th>\n",
       "      <th>...</th>\n",
       "      <th>quoteCount</th>\n",
       "      <th>conversationId</th>\n",
       "      <th>lang</th>\n",
       "      <th>source</th>\n",
       "      <th>sourceUrl</th>\n",
       "      <th>sourceLabel</th>\n",
       "      <th>media</th>\n",
       "      <th>retweetedTweet</th>\n",
       "      <th>quotedTweet</th>\n",
       "      <th>mentionedUsers</th>\n",
       "    </tr>\n",
       "  </thead>\n",
       "  <tbody>\n",
       "    <tr>\n",
       "      <th>0</th>\n",
       "      <td>https://twitter.com/noxyplanet/status/13658133...</td>\n",
       "      <td>2021-02-27 23:57:28+00:00</td>\n",
       "      <td>The Rivers State GOC, commander of the 6th Div...</td>\n",
       "      <td>The Rivers State GOC, commander of the 6th Div...</td>\n",
       "      <td>1365813330435330048</td>\n",
       "      <td>{'username': 'noxyplanet', 'displayname': 'Chi...</td>\n",
       "      <td>[]</td>\n",
       "      <td>[]</td>\n",
       "      <td>0</td>\n",
       "      <td>0</td>\n",
       "      <td>...</td>\n",
       "      <td>0</td>\n",
       "      <td>1365813330435330048</td>\n",
       "      <td>en</td>\n",
       "      <td>&lt;a href=\"http://twitter.com/download/android\" ...</td>\n",
       "      <td>http://twitter.com/download/android</td>\n",
       "      <td>Twitter for Android</td>\n",
       "      <td>[{'previewUrl': 'https://pbs.twimg.com/media/E...</td>\n",
       "      <td>NaN</td>\n",
       "      <td>NaN</td>\n",
       "      <td>[{'username': 'General_Somto', 'displayname': ...</td>\n",
       "    </tr>\n",
       "    <tr>\n",
       "      <th>1</th>\n",
       "      <td>https://twitter.com/BlendNg/status/13658130500...</td>\n",
       "      <td>2021-02-27 23:56:21+00:00</td>\n",
       "      <td>#EndSars: FG Created Over N25B To Supplement T...</td>\n",
       "      <td>#EndSars: FG Created Over N25B To Supplement T...</td>\n",
       "      <td>1365813050046054404</td>\n",
       "      <td>{'username': 'BlendNg', 'displayname': 'BlendN...</td>\n",
       "      <td>['https://blendng.com/endsars-fg-created-over-...</td>\n",
       "      <td>['https://t.co/GYjC2xlCgw']</td>\n",
       "      <td>0</td>\n",
       "      <td>0</td>\n",
       "      <td>...</td>\n",
       "      <td>0</td>\n",
       "      <td>1365813050046054404</td>\n",
       "      <td>en</td>\n",
       "      <td>&lt;a href=\"https://revive.social/\" rel=\"nofollow...</td>\n",
       "      <td>https://revive.social/</td>\n",
       "      <td>Revive Social App</td>\n",
       "      <td>NaN</td>\n",
       "      <td>NaN</td>\n",
       "      <td>NaN</td>\n",
       "      <td>NaN</td>\n",
       "    </tr>\n",
       "    <tr>\n",
       "      <th>2</th>\n",
       "      <td>https://twitter.com/Omzyoflagos/status/1365812...</td>\n",
       "      <td>2021-02-27 23:56:07+00:00</td>\n",
       "      <td>I repeat again this @MBuhari regime has shown ...</td>\n",
       "      <td>I repeat again this @MBuhari regime has shown ...</td>\n",
       "      <td>1365812992143728643</td>\n",
       "      <td>{'username': 'Omzyoflagos', 'displayname': 'Om...</td>\n",
       "      <td>[]</td>\n",
       "      <td>[]</td>\n",
       "      <td>2</td>\n",
       "      <td>0</td>\n",
       "      <td>...</td>\n",
       "      <td>0</td>\n",
       "      <td>1365812992143728643</td>\n",
       "      <td>en</td>\n",
       "      <td>&lt;a href=\"http://twitter.com/download/iphone\" r...</td>\n",
       "      <td>http://twitter.com/download/iphone</td>\n",
       "      <td>Twitter for iPhone</td>\n",
       "      <td>NaN</td>\n",
       "      <td>NaN</td>\n",
       "      <td>NaN</td>\n",
       "      <td>[{'username': 'MBuhari', 'displayname': 'Muham...</td>\n",
       "    </tr>\n",
       "    <tr>\n",
       "      <th>3</th>\n",
       "      <td>https://twitter.com/_Allison_Gloria/status/136...</td>\n",
       "      <td>2021-02-27 23:53:24+00:00</td>\n",
       "      <td>Bandits actions are being justified as mere ac...</td>\n",
       "      <td>Bandits actions are being justified as mere ac...</td>\n",
       "      <td>1365812309298475010</td>\n",
       "      <td>{'username': '_Allison_Gloria', 'displayname':...</td>\n",
       "      <td>[]</td>\n",
       "      <td>[]</td>\n",
       "      <td>0</td>\n",
       "      <td>1</td>\n",
       "      <td>...</td>\n",
       "      <td>0</td>\n",
       "      <td>1365812309298475010</td>\n",
       "      <td>en</td>\n",
       "      <td>&lt;a href=\"http://twitter.com/download/iphone\" r...</td>\n",
       "      <td>http://twitter.com/download/iphone</td>\n",
       "      <td>Twitter for iPhone</td>\n",
       "      <td>[{'thumbnailUrl': 'https://pbs.twimg.com/ext_t...</td>\n",
       "      <td>NaN</td>\n",
       "      <td>NaN</td>\n",
       "      <td>NaN</td>\n",
       "    </tr>\n",
       "    <tr>\n",
       "      <th>4</th>\n",
       "      <td>https://twitter.com/warner_time1/status/136581...</td>\n",
       "      <td>2021-02-27 23:51:00+00:00</td>\n",
       "      <td>#EndSARS #EndBadGoveranceInNigeria https://t.c...</td>\n",
       "      <td>#EndSARS #EndBadGoveranceInNigeria twitter.com...</td>\n",
       "      <td>1365811702240055296</td>\n",
       "      <td>{'username': 'warner_time1', 'displayname': 'a...</td>\n",
       "      <td>['https://twitter.com/PeterROCK_/status/136542...</td>\n",
       "      <td>['https://t.co/KjoqAs7U2h']</td>\n",
       "      <td>0</td>\n",
       "      <td>1</td>\n",
       "      <td>...</td>\n",
       "      <td>0</td>\n",
       "      <td>1365811702240055296</td>\n",
       "      <td>und</td>\n",
       "      <td>&lt;a href=\"http://twitter.com/download/android\" ...</td>\n",
       "      <td>http://twitter.com/download/android</td>\n",
       "      <td>Twitter for Android</td>\n",
       "      <td>NaN</td>\n",
       "      <td>NaN</td>\n",
       "      <td>{'url': 'https://twitter.com/PeterROCK_/status...</td>\n",
       "      <td>NaN</td>\n",
       "    </tr>\n",
       "  </tbody>\n",
       "</table>\n",
       "<p>5 rows × 21 columns</p>\n",
       "</div>"
      ],
      "text/plain": [
       "                                                 url  \\\n",
       "0  https://twitter.com/noxyplanet/status/13658133...   \n",
       "1  https://twitter.com/BlendNg/status/13658130500...   \n",
       "2  https://twitter.com/Omzyoflagos/status/1365812...   \n",
       "3  https://twitter.com/_Allison_Gloria/status/136...   \n",
       "4  https://twitter.com/warner_time1/status/136581...   \n",
       "\n",
       "                        date  \\\n",
       "0  2021-02-27 23:57:28+00:00   \n",
       "1  2021-02-27 23:56:21+00:00   \n",
       "2  2021-02-27 23:56:07+00:00   \n",
       "3  2021-02-27 23:53:24+00:00   \n",
       "4  2021-02-27 23:51:00+00:00   \n",
       "\n",
       "                                             content  \\\n",
       "0  The Rivers State GOC, commander of the 6th Div...   \n",
       "1  #EndSars: FG Created Over N25B To Supplement T...   \n",
       "2  I repeat again this @MBuhari regime has shown ...   \n",
       "3  Bandits actions are being justified as mere ac...   \n",
       "4  #EndSARS #EndBadGoveranceInNigeria https://t.c...   \n",
       "\n",
       "                                     renderedContent                   id  \\\n",
       "0  The Rivers State GOC, commander of the 6th Div...  1365813330435330048   \n",
       "1  #EndSars: FG Created Over N25B To Supplement T...  1365813050046054404   \n",
       "2  I repeat again this @MBuhari regime has shown ...  1365812992143728643   \n",
       "3  Bandits actions are being justified as mere ac...  1365812309298475010   \n",
       "4  #EndSARS #EndBadGoveranceInNigeria twitter.com...  1365811702240055296   \n",
       "\n",
       "                                                user  \\\n",
       "0  {'username': 'noxyplanet', 'displayname': 'Chi...   \n",
       "1  {'username': 'BlendNg', 'displayname': 'BlendN...   \n",
       "2  {'username': 'Omzyoflagos', 'displayname': 'Om...   \n",
       "3  {'username': '_Allison_Gloria', 'displayname':...   \n",
       "4  {'username': 'warner_time1', 'displayname': 'a...   \n",
       "\n",
       "                                            outlinks  \\\n",
       "0                                                 []   \n",
       "1  ['https://blendng.com/endsars-fg-created-over-...   \n",
       "2                                                 []   \n",
       "3                                                 []   \n",
       "4  ['https://twitter.com/PeterROCK_/status/136542...   \n",
       "\n",
       "                   tcooutlinks  replyCount  retweetCount  ...  quoteCount  \\\n",
       "0                           []           0             0  ...           0   \n",
       "1  ['https://t.co/GYjC2xlCgw']           0             0  ...           0   \n",
       "2                           []           2             0  ...           0   \n",
       "3                           []           0             1  ...           0   \n",
       "4  ['https://t.co/KjoqAs7U2h']           0             1  ...           0   \n",
       "\n",
       "        conversationId  lang  \\\n",
       "0  1365813330435330048    en   \n",
       "1  1365813050046054404    en   \n",
       "2  1365812992143728643    en   \n",
       "3  1365812309298475010    en   \n",
       "4  1365811702240055296   und   \n",
       "\n",
       "                                              source  \\\n",
       "0  <a href=\"http://twitter.com/download/android\" ...   \n",
       "1  <a href=\"https://revive.social/\" rel=\"nofollow...   \n",
       "2  <a href=\"http://twitter.com/download/iphone\" r...   \n",
       "3  <a href=\"http://twitter.com/download/iphone\" r...   \n",
       "4  <a href=\"http://twitter.com/download/android\" ...   \n",
       "\n",
       "                             sourceUrl          sourceLabel  \\\n",
       "0  http://twitter.com/download/android  Twitter for Android   \n",
       "1               https://revive.social/    Revive Social App   \n",
       "2   http://twitter.com/download/iphone   Twitter for iPhone   \n",
       "3   http://twitter.com/download/iphone   Twitter for iPhone   \n",
       "4  http://twitter.com/download/android  Twitter for Android   \n",
       "\n",
       "                                               media retweetedTweet  \\\n",
       "0  [{'previewUrl': 'https://pbs.twimg.com/media/E...            NaN   \n",
       "1                                                NaN            NaN   \n",
       "2                                                NaN            NaN   \n",
       "3  [{'thumbnailUrl': 'https://pbs.twimg.com/ext_t...            NaN   \n",
       "4                                                NaN            NaN   \n",
       "\n",
       "                                         quotedTweet  \\\n",
       "0                                                NaN   \n",
       "1                                                NaN   \n",
       "2                                                NaN   \n",
       "3                                                NaN   \n",
       "4  {'url': 'https://twitter.com/PeterROCK_/status...   \n",
       "\n",
       "                                      mentionedUsers  \n",
       "0  [{'username': 'General_Somto', 'displayname': ...  \n",
       "1                                                NaN  \n",
       "2  [{'username': 'MBuhari', 'displayname': 'Muham...  \n",
       "3                                                NaN  \n",
       "4                                                NaN  \n",
       "\n",
       "[5 rows x 21 columns]"
      ]
     },
     "execution_count": 23,
     "metadata": {},
     "output_type": "execute_result"
    }
   ],
   "source": [
    "df.head()"
   ]
  },
  {
   "cell_type": "code",
   "execution_count": 24,
   "metadata": {
    "colab": {
     "base_uri": "https://localhost:8080/"
    },
    "id": "tSG8St_S0ISY",
    "outputId": "27d0e604-f1c2-48cb-df71-b10445f2ad11"
   },
   "outputs": [
    {
     "data": {
      "text/plain": [
       "(15769, 21)"
      ]
     },
     "execution_count": 24,
     "metadata": {},
     "output_type": "execute_result"
    }
   ],
   "source": [
    "df.shape"
   ]
  },
  {
   "cell_type": "code",
   "execution_count": 25,
   "metadata": {
    "colab": {
     "base_uri": "https://localhost:8080/"
    },
    "id": "WkQmWeNostot",
    "outputId": "f09de160-eadc-49f3-8082-e084f3d8c333"
   },
   "outputs": [
    {
     "data": {
      "text/plain": [
       "Index(['url', 'date', 'content', 'renderedContent', 'id', 'user', 'outlinks',\n",
       "       'tcooutlinks', 'replyCount', 'retweetCount', 'likeCount', 'quoteCount',\n",
       "       'conversationId', 'lang', 'source', 'sourceUrl', 'sourceLabel', 'media',\n",
       "       'retweetedTweet', 'quotedTweet', 'mentionedUsers'],\n",
       "      dtype='object')"
      ]
     },
     "execution_count": 25,
     "metadata": {},
     "output_type": "execute_result"
    }
   ],
   "source": [
    "df.columns"
   ]
  },
  {
   "cell_type": "code",
   "execution_count": 26,
   "metadata": {
    "id": "VwZYhCBIsto0"
   },
   "outputs": [],
   "source": [
    "to_drop=['url', 'content', 'id', 'user', 'outlinks','tcooutlinks','conversationId','quotedTweet', \n",
    "         'lang', 'source', 'sourceUrl', 'sourceLabel', 'media', 'retweetedTweet','mentionedUsers']"
   ]
  },
  {
   "cell_type": "code",
   "execution_count": 27,
   "metadata": {
    "id": "MkGMgcfXsto1"
   },
   "outputs": [],
   "source": [
    "df=df.drop(to_drop,axis=1)"
   ]
  },
  {
   "cell_type": "code",
   "execution_count": 28,
   "metadata": {
    "colab": {
     "base_uri": "https://localhost:8080/",
     "height": 204
    },
    "id": "VkBjqiwgsto3",
    "outputId": "ee00ac87-28cd-4bea-9869-329352a3ba91"
   },
   "outputs": [
    {
     "data": {
      "text/html": [
       "<div>\n",
       "<style scoped>\n",
       "    .dataframe tbody tr th:only-of-type {\n",
       "        vertical-align: middle;\n",
       "    }\n",
       "\n",
       "    .dataframe tbody tr th {\n",
       "        vertical-align: top;\n",
       "    }\n",
       "\n",
       "    .dataframe thead th {\n",
       "        text-align: right;\n",
       "    }\n",
       "</style>\n",
       "<table border=\"1\" class=\"dataframe\">\n",
       "  <thead>\n",
       "    <tr style=\"text-align: right;\">\n",
       "      <th></th>\n",
       "      <th>date</th>\n",
       "      <th>renderedContent</th>\n",
       "      <th>replyCount</th>\n",
       "      <th>retweetCount</th>\n",
       "      <th>likeCount</th>\n",
       "      <th>quoteCount</th>\n",
       "    </tr>\n",
       "  </thead>\n",
       "  <tbody>\n",
       "    <tr>\n",
       "      <th>0</th>\n",
       "      <td>2021-02-27 23:57:28+00:00</td>\n",
       "      <td>The Rivers State GOC, commander of the 6th Div...</td>\n",
       "      <td>0</td>\n",
       "      <td>0</td>\n",
       "      <td>0</td>\n",
       "      <td>0</td>\n",
       "    </tr>\n",
       "    <tr>\n",
       "      <th>1</th>\n",
       "      <td>2021-02-27 23:56:21+00:00</td>\n",
       "      <td>#EndSars: FG Created Over N25B To Supplement T...</td>\n",
       "      <td>0</td>\n",
       "      <td>0</td>\n",
       "      <td>0</td>\n",
       "      <td>0</td>\n",
       "    </tr>\n",
       "    <tr>\n",
       "      <th>2</th>\n",
       "      <td>2021-02-27 23:56:07+00:00</td>\n",
       "      <td>I repeat again this @MBuhari regime has shown ...</td>\n",
       "      <td>2</td>\n",
       "      <td>0</td>\n",
       "      <td>2</td>\n",
       "      <td>0</td>\n",
       "    </tr>\n",
       "    <tr>\n",
       "      <th>3</th>\n",
       "      <td>2021-02-27 23:53:24+00:00</td>\n",
       "      <td>Bandits actions are being justified as mere ac...</td>\n",
       "      <td>0</td>\n",
       "      <td>1</td>\n",
       "      <td>3</td>\n",
       "      <td>0</td>\n",
       "    </tr>\n",
       "    <tr>\n",
       "      <th>4</th>\n",
       "      <td>2021-02-27 23:51:00+00:00</td>\n",
       "      <td>#EndSARS #EndBadGoveranceInNigeria twitter.com...</td>\n",
       "      <td>0</td>\n",
       "      <td>1</td>\n",
       "      <td>1</td>\n",
       "      <td>0</td>\n",
       "    </tr>\n",
       "  </tbody>\n",
       "</table>\n",
       "</div>"
      ],
      "text/plain": [
       "                        date  \\\n",
       "0  2021-02-27 23:57:28+00:00   \n",
       "1  2021-02-27 23:56:21+00:00   \n",
       "2  2021-02-27 23:56:07+00:00   \n",
       "3  2021-02-27 23:53:24+00:00   \n",
       "4  2021-02-27 23:51:00+00:00   \n",
       "\n",
       "                                     renderedContent  replyCount  \\\n",
       "0  The Rivers State GOC, commander of the 6th Div...           0   \n",
       "1  #EndSars: FG Created Over N25B To Supplement T...           0   \n",
       "2  I repeat again this @MBuhari regime has shown ...           2   \n",
       "3  Bandits actions are being justified as mere ac...           0   \n",
       "4  #EndSARS #EndBadGoveranceInNigeria twitter.com...           0   \n",
       "\n",
       "   retweetCount  likeCount  quoteCount  \n",
       "0             0          0           0  \n",
       "1             0          0           0  \n",
       "2             0          2           0  \n",
       "3             1          3           0  \n",
       "4             1          1           0  "
      ]
     },
     "execution_count": 28,
     "metadata": {},
     "output_type": "execute_result"
    }
   ],
   "source": [
    "df.head()"
   ]
  },
  {
   "cell_type": "code",
   "execution_count": 29,
   "metadata": {
    "id": "3ig0BLGosto4"
   },
   "outputs": [],
   "source": [
    "df['date']=pd.to_datetime(df['date'])"
   ]
  },
  {
   "cell_type": "code",
   "execution_count": 30,
   "metadata": {
    "colab": {
     "base_uri": "https://localhost:8080/",
     "height": 204
    },
    "id": "3j4BvJY1sto5",
    "outputId": "12b3949e-902e-4605-e92e-03de2072c677"
   },
   "outputs": [
    {
     "data": {
      "text/html": [
       "<div>\n",
       "<style scoped>\n",
       "    .dataframe tbody tr th:only-of-type {\n",
       "        vertical-align: middle;\n",
       "    }\n",
       "\n",
       "    .dataframe tbody tr th {\n",
       "        vertical-align: top;\n",
       "    }\n",
       "\n",
       "    .dataframe thead th {\n",
       "        text-align: right;\n",
       "    }\n",
       "</style>\n",
       "<table border=\"1\" class=\"dataframe\">\n",
       "  <thead>\n",
       "    <tr style=\"text-align: right;\">\n",
       "      <th></th>\n",
       "      <th>date</th>\n",
       "      <th>renderedContent</th>\n",
       "      <th>replyCount</th>\n",
       "      <th>retweetCount</th>\n",
       "      <th>likeCount</th>\n",
       "      <th>quoteCount</th>\n",
       "    </tr>\n",
       "  </thead>\n",
       "  <tbody>\n",
       "    <tr>\n",
       "      <th>0</th>\n",
       "      <td>2021-02-27 23:57:28+00:00</td>\n",
       "      <td>The Rivers State GOC, commander of the 6th Div...</td>\n",
       "      <td>0</td>\n",
       "      <td>0</td>\n",
       "      <td>0</td>\n",
       "      <td>0</td>\n",
       "    </tr>\n",
       "    <tr>\n",
       "      <th>1</th>\n",
       "      <td>2021-02-27 23:56:21+00:00</td>\n",
       "      <td>#EndSars: FG Created Over N25B To Supplement T...</td>\n",
       "      <td>0</td>\n",
       "      <td>0</td>\n",
       "      <td>0</td>\n",
       "      <td>0</td>\n",
       "    </tr>\n",
       "    <tr>\n",
       "      <th>2</th>\n",
       "      <td>2021-02-27 23:56:07+00:00</td>\n",
       "      <td>I repeat again this @MBuhari regime has shown ...</td>\n",
       "      <td>2</td>\n",
       "      <td>0</td>\n",
       "      <td>2</td>\n",
       "      <td>0</td>\n",
       "    </tr>\n",
       "    <tr>\n",
       "      <th>3</th>\n",
       "      <td>2021-02-27 23:53:24+00:00</td>\n",
       "      <td>Bandits actions are being justified as mere ac...</td>\n",
       "      <td>0</td>\n",
       "      <td>1</td>\n",
       "      <td>3</td>\n",
       "      <td>0</td>\n",
       "    </tr>\n",
       "    <tr>\n",
       "      <th>4</th>\n",
       "      <td>2021-02-27 23:51:00+00:00</td>\n",
       "      <td>#EndSARS #EndBadGoveranceInNigeria twitter.com...</td>\n",
       "      <td>0</td>\n",
       "      <td>1</td>\n",
       "      <td>1</td>\n",
       "      <td>0</td>\n",
       "    </tr>\n",
       "  </tbody>\n",
       "</table>\n",
       "</div>"
      ],
      "text/plain": [
       "                       date  \\\n",
       "0 2021-02-27 23:57:28+00:00   \n",
       "1 2021-02-27 23:56:21+00:00   \n",
       "2 2021-02-27 23:56:07+00:00   \n",
       "3 2021-02-27 23:53:24+00:00   \n",
       "4 2021-02-27 23:51:00+00:00   \n",
       "\n",
       "                                     renderedContent  replyCount  \\\n",
       "0  The Rivers State GOC, commander of the 6th Div...           0   \n",
       "1  #EndSars: FG Created Over N25B To Supplement T...           0   \n",
       "2  I repeat again this @MBuhari regime has shown ...           2   \n",
       "3  Bandits actions are being justified as mere ac...           0   \n",
       "4  #EndSARS #EndBadGoveranceInNigeria twitter.com...           0   \n",
       "\n",
       "   retweetCount  likeCount  quoteCount  \n",
       "0             0          0           0  \n",
       "1             0          0           0  \n",
       "2             0          2           0  \n",
       "3             1          3           0  \n",
       "4             1          1           0  "
      ]
     },
     "execution_count": 30,
     "metadata": {},
     "output_type": "execute_result"
    }
   ],
   "source": [
    "df.head()"
   ]
  },
  {
   "cell_type": "code",
   "execution_count": 31,
   "metadata": {
    "colab": {
     "base_uri": "https://localhost:8080/"
    },
    "id": "6Cj8v5Vgsto7",
    "outputId": "66959767-2177-4414-a47a-f7ec7ebd7b3f"
   },
   "outputs": [
    {
     "name": "stdout",
     "output_type": "stream",
     "text": [
      "<class 'pandas.core.frame.DataFrame'>\n",
      "RangeIndex: 15769 entries, 0 to 15768\n",
      "Data columns (total 6 columns):\n",
      " #   Column           Non-Null Count  Dtype              \n",
      "---  ------           --------------  -----              \n",
      " 0   date             15769 non-null  datetime64[ns, UTC]\n",
      " 1   renderedContent  15769 non-null  object             \n",
      " 2   replyCount       15769 non-null  int64              \n",
      " 3   retweetCount     15769 non-null  int64              \n",
      " 4   likeCount        15769 non-null  int64              \n",
      " 5   quoteCount       15769 non-null  int64              \n",
      "dtypes: datetime64[ns, UTC](1), int64(4), object(1)\n",
      "memory usage: 739.3+ KB\n"
     ]
    }
   ],
   "source": [
    "df.info()"
   ]
  },
  {
   "cell_type": "code",
   "execution_count": 32,
   "metadata": {
    "colab": {
     "base_uri": "https://localhost:8080/"
    },
    "id": "YqDW6dZhsto8",
    "outputId": "25a966c8-9aef-4cb8-875f-b53239658520"
   },
   "outputs": [
    {
     "data": {
      "text/plain": [
       "date               0\n",
       "renderedContent    0\n",
       "replyCount         0\n",
       "retweetCount       0\n",
       "likeCount          0\n",
       "quoteCount         0\n",
       "dtype: int64"
      ]
     },
     "execution_count": 32,
     "metadata": {},
     "output_type": "execute_result"
    }
   ],
   "source": [
    "df.isnull().sum()"
   ]
  },
  {
   "cell_type": "code",
   "execution_count": 33,
   "metadata": {
    "colab": {
     "base_uri": "https://localhost:8080/",
     "height": 297
    },
    "id": "uQdlkJvgsto-",
    "outputId": "93d461f3-17a2-4157-b360-aa96430a0b57"
   },
   "outputs": [
    {
     "data": {
      "text/html": [
       "<div>\n",
       "<style scoped>\n",
       "    .dataframe tbody tr th:only-of-type {\n",
       "        vertical-align: middle;\n",
       "    }\n",
       "\n",
       "    .dataframe tbody tr th {\n",
       "        vertical-align: top;\n",
       "    }\n",
       "\n",
       "    .dataframe thead th {\n",
       "        text-align: right;\n",
       "    }\n",
       "</style>\n",
       "<table border=\"1\" class=\"dataframe\">\n",
       "  <thead>\n",
       "    <tr style=\"text-align: right;\">\n",
       "      <th></th>\n",
       "      <th>replyCount</th>\n",
       "      <th>retweetCount</th>\n",
       "      <th>likeCount</th>\n",
       "      <th>quoteCount</th>\n",
       "    </tr>\n",
       "  </thead>\n",
       "  <tbody>\n",
       "    <tr>\n",
       "      <th>count</th>\n",
       "      <td>15769.000000</td>\n",
       "      <td>15769.000000</td>\n",
       "      <td>15769.000000</td>\n",
       "      <td>15769.000000</td>\n",
       "    </tr>\n",
       "    <tr>\n",
       "      <th>mean</th>\n",
       "      <td>0.514681</td>\n",
       "      <td>5.045342</td>\n",
       "      <td>10.624009</td>\n",
       "      <td>0.210476</td>\n",
       "    </tr>\n",
       "    <tr>\n",
       "      <th>std</th>\n",
       "      <td>5.568510</td>\n",
       "      <td>55.129697</td>\n",
       "      <td>137.142308</td>\n",
       "      <td>3.106417</td>\n",
       "    </tr>\n",
       "    <tr>\n",
       "      <th>min</th>\n",
       "      <td>0.000000</td>\n",
       "      <td>0.000000</td>\n",
       "      <td>0.000000</td>\n",
       "      <td>0.000000</td>\n",
       "    </tr>\n",
       "    <tr>\n",
       "      <th>25%</th>\n",
       "      <td>0.000000</td>\n",
       "      <td>0.000000</td>\n",
       "      <td>0.000000</td>\n",
       "      <td>0.000000</td>\n",
       "    </tr>\n",
       "    <tr>\n",
       "      <th>50%</th>\n",
       "      <td>0.000000</td>\n",
       "      <td>0.000000</td>\n",
       "      <td>1.000000</td>\n",
       "      <td>0.000000</td>\n",
       "    </tr>\n",
       "    <tr>\n",
       "      <th>75%</th>\n",
       "      <td>0.000000</td>\n",
       "      <td>2.000000</td>\n",
       "      <td>2.000000</td>\n",
       "      <td>0.000000</td>\n",
       "    </tr>\n",
       "    <tr>\n",
       "      <th>max</th>\n",
       "      <td>454.000000</td>\n",
       "      <td>2877.000000</td>\n",
       "      <td>9218.000000</td>\n",
       "      <td>242.000000</td>\n",
       "    </tr>\n",
       "  </tbody>\n",
       "</table>\n",
       "</div>"
      ],
      "text/plain": [
       "         replyCount  retweetCount     likeCount    quoteCount\n",
       "count  15769.000000  15769.000000  15769.000000  15769.000000\n",
       "mean       0.514681      5.045342     10.624009      0.210476\n",
       "std        5.568510     55.129697    137.142308      3.106417\n",
       "min        0.000000      0.000000      0.000000      0.000000\n",
       "25%        0.000000      0.000000      0.000000      0.000000\n",
       "50%        0.000000      0.000000      1.000000      0.000000\n",
       "75%        0.000000      2.000000      2.000000      0.000000\n",
       "max      454.000000   2877.000000   9218.000000    242.000000"
      ]
     },
     "execution_count": 33,
     "metadata": {},
     "output_type": "execute_result"
    }
   ],
   "source": [
    "df.describe()"
   ]
  },
  {
   "cell_type": "code",
   "execution_count": 34,
   "metadata": {
    "id": "a2zlg0n-stpD"
   },
   "outputs": [],
   "source": [
    "text=df[['renderedContent']]"
   ]
  },
  {
   "cell_type": "code",
   "execution_count": 35,
   "metadata": {
    "id": "dtEQhIwHxcfi"
   },
   "outputs": [],
   "source": [
    "bloblist_desc = list()\n",
    "\n",
    "tweets = text['renderedContent'].astype(str)\n",
    "for row in tweets:\n",
    "  blob = TextBlob(row)\n",
    "  bloblist_desc.append((row,blob.sentiment.polarity, blob.sentiment.subjectivity))\n",
    "  tweets = pd.DataFrame(bloblist_desc, columns=['tweets','sentiment','polarity'])\n",
    "\n",
    "def f(tweets):\n",
    "  if tweets['sentiment'] > 0:\n",
    "    val = 'Positive'\n",
    "  elif tweets['sentiment'] == 0:\n",
    "    val = 'Neutral'\n",
    "  else:\n",
    "    val = 'Negative'\n",
    "  return val\n",
    "\n",
    "tweets['Sentiment_type'] = tweets.apply(f,axis=1)"
   ]
  },
  {
   "cell_type": "code",
   "execution_count": 36,
   "metadata": {
    "colab": {
     "base_uri": "https://localhost:8080/",
     "height": 204
    },
    "id": "X7Bk7-R4zAng",
    "outputId": "2cb8fd60-b2db-408d-df28-865bfbe3a756"
   },
   "outputs": [
    {
     "data": {
      "text/html": [
       "<div>\n",
       "<style scoped>\n",
       "    .dataframe tbody tr th:only-of-type {\n",
       "        vertical-align: middle;\n",
       "    }\n",
       "\n",
       "    .dataframe tbody tr th {\n",
       "        vertical-align: top;\n",
       "    }\n",
       "\n",
       "    .dataframe thead th {\n",
       "        text-align: right;\n",
       "    }\n",
       "</style>\n",
       "<table border=\"1\" class=\"dataframe\">\n",
       "  <thead>\n",
       "    <tr style=\"text-align: right;\">\n",
       "      <th></th>\n",
       "      <th>tweets</th>\n",
       "      <th>sentiment</th>\n",
       "      <th>polarity</th>\n",
       "      <th>Sentiment_type</th>\n",
       "    </tr>\n",
       "  </thead>\n",
       "  <tbody>\n",
       "    <tr>\n",
       "      <th>0</th>\n",
       "      <td>The Rivers State GOC, commander of the 6th Div...</td>\n",
       "      <td>-0.237500</td>\n",
       "      <td>0.725</td>\n",
       "      <td>Negative</td>\n",
       "    </tr>\n",
       "    <tr>\n",
       "      <th>1</th>\n",
       "      <td>#EndSars: FG Created Over N25B To Supplement T...</td>\n",
       "      <td>0.000000</td>\n",
       "      <td>0.000</td>\n",
       "      <td>Neutral</td>\n",
       "    </tr>\n",
       "    <tr>\n",
       "      <th>2</th>\n",
       "      <td>I repeat again this @MBuhari regime has shown ...</td>\n",
       "      <td>0.000000</td>\n",
       "      <td>0.000</td>\n",
       "      <td>Neutral</td>\n",
       "    </tr>\n",
       "    <tr>\n",
       "      <th>3</th>\n",
       "      <td>Bandits actions are being justified as mere ac...</td>\n",
       "      <td>0.033333</td>\n",
       "      <td>0.700</td>\n",
       "      <td>Positive</td>\n",
       "    </tr>\n",
       "    <tr>\n",
       "      <th>4</th>\n",
       "      <td>#EndSARS #EndBadGoveranceInNigeria twitter.com...</td>\n",
       "      <td>0.000000</td>\n",
       "      <td>0.000</td>\n",
       "      <td>Neutral</td>\n",
       "    </tr>\n",
       "  </tbody>\n",
       "</table>\n",
       "</div>"
      ],
      "text/plain": [
       "                                              tweets  sentiment  polarity  \\\n",
       "0  The Rivers State GOC, commander of the 6th Div...  -0.237500     0.725   \n",
       "1  #EndSars: FG Created Over N25B To Supplement T...   0.000000     0.000   \n",
       "2  I repeat again this @MBuhari regime has shown ...   0.000000     0.000   \n",
       "3  Bandits actions are being justified as mere ac...   0.033333     0.700   \n",
       "4  #EndSARS #EndBadGoveranceInNigeria twitter.com...   0.000000     0.000   \n",
       "\n",
       "  Sentiment_type  \n",
       "0       Negative  \n",
       "1        Neutral  \n",
       "2        Neutral  \n",
       "3       Positive  \n",
       "4        Neutral  "
      ]
     },
     "execution_count": 36,
     "metadata": {},
     "output_type": "execute_result"
    }
   ],
   "source": [
    "tweets.head()"
   ]
  },
  {
   "cell_type": "code",
   "execution_count": 38,
   "metadata": {},
   "outputs": [],
   "source": [
    "to_be_drop=['sentiment','polarity']\n",
    "tweets=tweets.drop(to_be_drop,axis=1)"
   ]
  },
  {
   "cell_type": "code",
   "execution_count": 39,
   "metadata": {},
   "outputs": [],
   "source": [
    "tweets.to_csv('tweets.csv',index=False)"
   ]
  },
  {
   "cell_type": "code",
   "execution_count": 78,
   "metadata": {
    "id": "UR6Z3PurzRlK"
   },
   "outputs": [],
   "source": [
    "df['Sentiment_type']= tweets['Sentiment_type']"
   ]
  },
  {
   "cell_type": "code",
   "execution_count": 79,
   "metadata": {
    "colab": {
     "base_uri": "https://localhost:8080/",
     "height": 204
    },
    "id": "vzN0Tcj85UMy",
    "outputId": "5695b6a4-4c68-4f87-c00a-38cc71ede335"
   },
   "outputs": [
    {
     "data": {
      "text/html": [
       "<div>\n",
       "<style scoped>\n",
       "    .dataframe tbody tr th:only-of-type {\n",
       "        vertical-align: middle;\n",
       "    }\n",
       "\n",
       "    .dataframe tbody tr th {\n",
       "        vertical-align: top;\n",
       "    }\n",
       "\n",
       "    .dataframe thead th {\n",
       "        text-align: right;\n",
       "    }\n",
       "</style>\n",
       "<table border=\"1\" class=\"dataframe\">\n",
       "  <thead>\n",
       "    <tr style=\"text-align: right;\">\n",
       "      <th></th>\n",
       "      <th>date</th>\n",
       "      <th>renderedContent</th>\n",
       "      <th>replyCount</th>\n",
       "      <th>retweetCount</th>\n",
       "      <th>likeCount</th>\n",
       "      <th>quoteCount</th>\n",
       "      <th>Sentiment_type</th>\n",
       "    </tr>\n",
       "  </thead>\n",
       "  <tbody>\n",
       "    <tr>\n",
       "      <th>0</th>\n",
       "      <td>2021-02-27 23:57:28+00:00</td>\n",
       "      <td>The Rivers State GOC, commander of the 6th Div...</td>\n",
       "      <td>0</td>\n",
       "      <td>0</td>\n",
       "      <td>0</td>\n",
       "      <td>0</td>\n",
       "      <td>Negative</td>\n",
       "    </tr>\n",
       "    <tr>\n",
       "      <th>1</th>\n",
       "      <td>2021-02-27 23:56:21+00:00</td>\n",
       "      <td>#EndSars: FG Created Over N25B To Supplement T...</td>\n",
       "      <td>0</td>\n",
       "      <td>0</td>\n",
       "      <td>0</td>\n",
       "      <td>0</td>\n",
       "      <td>Neutral</td>\n",
       "    </tr>\n",
       "    <tr>\n",
       "      <th>2</th>\n",
       "      <td>2021-02-27 23:56:07+00:00</td>\n",
       "      <td>I repeat again this @MBuhari regime has shown ...</td>\n",
       "      <td>2</td>\n",
       "      <td>0</td>\n",
       "      <td>2</td>\n",
       "      <td>0</td>\n",
       "      <td>Neutral</td>\n",
       "    </tr>\n",
       "    <tr>\n",
       "      <th>3</th>\n",
       "      <td>2021-02-27 23:53:24+00:00</td>\n",
       "      <td>Bandits actions are being justified as mere ac...</td>\n",
       "      <td>0</td>\n",
       "      <td>1</td>\n",
       "      <td>3</td>\n",
       "      <td>0</td>\n",
       "      <td>Positive</td>\n",
       "    </tr>\n",
       "    <tr>\n",
       "      <th>4</th>\n",
       "      <td>2021-02-27 23:51:00+00:00</td>\n",
       "      <td>#EndSARS #EndBadGoveranceInNigeria twitter.com...</td>\n",
       "      <td>0</td>\n",
       "      <td>1</td>\n",
       "      <td>1</td>\n",
       "      <td>0</td>\n",
       "      <td>Neutral</td>\n",
       "    </tr>\n",
       "  </tbody>\n",
       "</table>\n",
       "</div>"
      ],
      "text/plain": [
       "                       date  ... Sentiment_type\n",
       "0 2021-02-27 23:57:28+00:00  ...       Negative\n",
       "1 2021-02-27 23:56:21+00:00  ...        Neutral\n",
       "2 2021-02-27 23:56:07+00:00  ...        Neutral\n",
       "3 2021-02-27 23:53:24+00:00  ...       Positive\n",
       "4 2021-02-27 23:51:00+00:00  ...        Neutral\n",
       "\n",
       "[5 rows x 7 columns]"
      ]
     },
     "execution_count": 79,
     "metadata": {
      "tags": []
     },
     "output_type": "execute_result"
    }
   ],
   "source": [
    "df.head()"
   ]
  },
  {
   "cell_type": "code",
   "execution_count": 80,
   "metadata": {
    "colab": {
     "base_uri": "https://localhost:8080/"
    },
    "id": "dsuqhCCq5Vkq",
    "outputId": "df6bd93e-95b2-4ce8-bb29-58d0fd5d860a"
   },
   "outputs": [
    {
     "name": "stdout",
     "output_type": "stream",
     "text": [
      "<class 'pandas.core.frame.DataFrame'>\n",
      "RangeIndex: 15769 entries, 0 to 15768\n",
      "Data columns (total 7 columns):\n",
      " #   Column           Non-Null Count  Dtype              \n",
      "---  ------           --------------  -----              \n",
      " 0   date             15769 non-null  datetime64[ns, UTC]\n",
      " 1   renderedContent  15769 non-null  object             \n",
      " 2   replyCount       15769 non-null  int64              \n",
      " 3   retweetCount     15769 non-null  int64              \n",
      " 4   likeCount        15769 non-null  int64              \n",
      " 5   quoteCount       15769 non-null  int64              \n",
      " 6   Sentiment_type   15769 non-null  object             \n",
      "dtypes: datetime64[ns, UTC](1), int64(4), object(2)\n",
      "memory usage: 862.5+ KB\n"
     ]
    }
   ],
   "source": [
    "df.info()"
   ]
  },
  {
   "cell_type": "code",
   "execution_count": 81,
   "metadata": {
    "colab": {
     "base_uri": "https://localhost:8080/"
    },
    "id": "paOVsWsi_tHp",
    "outputId": "fae3e0b3-eb54-4989-add5-c8d58e833953"
   },
   "outputs": [
    {
     "data": {
      "text/plain": [
       "Neutral     7354\n",
       "Positive    5338\n",
       "Negative    3077\n",
       "Name: Sentiment_type, dtype: int64"
      ]
     },
     "execution_count": 81,
     "metadata": {
      "tags": []
     },
     "output_type": "execute_result"
    }
   ],
   "source": [
    "sentiment_count=df['Sentiment_type'].value_counts()\n",
    "sentiment_count"
   ]
  },
  {
   "cell_type": "code",
   "execution_count": 82,
   "metadata": {
    "colab": {
     "base_uri": "https://localhost:8080/"
    },
    "id": "ffVRpwj-A0X7",
    "outputId": "828f7335-a4b3-4cc3-ca1d-173fca3d722b"
   },
   "outputs": [
    {
     "data": {
      "text/plain": [
       "2021-02-24 15:44:44+00:00    10\n",
       "2021-02-19 16:48:07+00:00    10\n",
       "2021-02-27 15:33:40+00:00     5\n",
       "2021-02-21 21:07:15+00:00     4\n",
       "2021-02-21 21:25:02+00:00     4\n",
       "                             ..\n",
       "2021-02-25 22:00:09+00:00     1\n",
       "2021-02-22 02:46:35+00:00     1\n",
       "2021-02-19 15:43:42+00:00     1\n",
       "2021-02-22 21:54:54+00:00     1\n",
       "2021-02-22 18:05:09+00:00     1\n",
       "Name: date, Length: 15298, dtype: int64"
      ]
     },
     "execution_count": 82,
     "metadata": {
      "tags": []
     },
     "output_type": "execute_result"
    }
   ],
   "source": [
    "Tweet_count=df['date'].value_counts()\n",
    "Tweet_count"
   ]
  },
  {
   "cell_type": "code",
   "execution_count": 83,
   "metadata": {
    "colab": {
     "base_uri": "https://localhost:8080/"
    },
    "id": "qUcnMRWRBKbH",
    "outputId": "d9de7efd-0629-457c-d6de-9da0d30732ab"
   },
   "outputs": [
    {
     "data": {
      "text/plain": [
       "<DatetimeArray>\n",
       "['2021-02-27 23:57:28+00:00', '2021-02-27 23:56:21+00:00',\n",
       " '2021-02-27 23:56:07+00:00', '2021-02-27 23:53:24+00:00',\n",
       " '2021-02-27 23:51:00+00:00', '2021-02-27 23:47:07+00:00',\n",
       " '2021-02-27 23:45:15+00:00', '2021-02-27 23:44:20+00:00',\n",
       " '2021-02-27 23:43:15+00:00', '2021-02-27 23:42:42+00:00',\n",
       " ...\n",
       " '2021-02-19 14:25:32+00:00', '2021-02-19 14:25:27+00:00',\n",
       " '2021-02-19 14:24:44+00:00', '2021-02-19 14:24:24+00:00',\n",
       " '2021-02-19 14:24:18+00:00', '2021-02-19 14:24:11+00:00',\n",
       " '2021-02-19 14:23:46+00:00', '2021-02-19 14:23:45+00:00',\n",
       " '2021-02-19 14:22:53+00:00', '2021-02-19 14:22:12+00:00']\n",
       "Length: 15298, dtype: datetime64[ns, UTC]"
      ]
     },
     "execution_count": 83,
     "metadata": {
      "tags": []
     },
     "output_type": "execute_result"
    }
   ],
   "source": [
    "Date_count=df['date'].unique()\n",
    "Date_count"
   ]
  },
  {
   "cell_type": "code",
   "execution_count": 97,
   "metadata": {
    "id": "v03WyEzE9gy8"
   },
   "outputs": [],
   "source": [
    "def output(target):\n",
    "\n",
    "  if target == 'Positive':\n",
    "    return 1\n",
    "  elif target == 'Neutral':\n",
    "    return 0\n",
    "  else:\n",
    "    return -1"
   ]
  },
  {
   "cell_type": "code",
   "execution_count": 98,
   "metadata": {
    "id": "jucHIAYm9uHe"
   },
   "outputs": [],
   "source": [
    "df['target']= df['Sentiment_type'].apply(output)"
   ]
  },
  {
   "cell_type": "markdown",
   "metadata": {
    "id": "7XpeAxfbFo4u"
   },
   "source": [
    "**Exploratory Data Analysis**"
   ]
  },
  {
   "cell_type": "code",
   "execution_count": 99,
   "metadata": {
    "colab": {
     "base_uri": "https://localhost:8080/",
     "height": 344
    },
    "id": "3knbPkbQ6qt8",
    "outputId": "b808b849-0ee1-419b-f5c5-3c802b69c745"
   },
   "outputs": [
    {
     "data": {
      "text/plain": [
       "<matplotlib.axes._subplots.AxesSubplot at 0x7fc4eb2b0910>"
      ]
     },
     "execution_count": 99,
     "metadata": {
      "tags": []
     },
     "output_type": "execute_result"
    },
    {
     "data": {
      "image/png": "[encoded data removed]",
      "text/plain": [
       "<Figure size 648x360 with 2 Axes>"
      ]
     },
     "metadata": {
      "needs_background": "light",
      "tags": []
     },
     "output_type": "display_data"
    }
   ],
   "source": [
    "variables= ['replyCount','retweetCount','likeCount','quoteCount']\n",
    "plt.figure(figsize=(9,5))\n",
    "sns.heatmap(df[variables].corr())"
   ]
  },
  {
   "cell_type": "code",
   "execution_count": 100,
   "metadata": {
    "colab": {
     "base_uri": "https://localhost:8080/",
     "height": 297
    },
    "id": "EDI5XfFk_cb2",
    "outputId": "a82db624-cc65-4f1a-bddd-900f05097698"
   },
   "outputs": [
    {
     "data": {
      "text/plain": [
       "<matplotlib.axes._subplots.AxesSubplot at 0x7fc4e75649d0>"
      ]
     },
     "execution_count": 100,
     "metadata": {
      "tags": []
     },
     "output_type": "execute_result"
    },
    {
     "data": {
      "image/png": "[encoded data removed]",
      "text/plain": [
       "<Figure size 432x288 with 1 Axes>"
      ]
     },
     "metadata": {
      "needs_background": "light",
      "tags": []
     },
     "output_type": "display_data"
    }
   ],
   "source": [
    "sns.countplot(df['Sentiment_type'])"
   ]
  },
  {
   "cell_type": "code",
   "execution_count": 101,
   "metadata": {
    "colab": {
     "base_uri": "https://localhost:8080/",
     "height": 248
    },
    "id": "rpB4m6uWBY8X",
    "outputId": "403fab91-4651-493a-8b98-19e6f29f1d64"
   },
   "outputs": [
    {
     "data": {
      "image/png": "[encoded data removed]",
      "text/plain": [
       "<Figure size 432x288 with 1 Axes>"
      ]
     },
     "metadata": {
      "tags": []
     },
     "output_type": "display_data"
    }
   ],
   "source": [
    "plt.pie(sentiment_count,labels=sentiment_count.index,autopct='%1.2f%%')\n",
    "plt.show()"
   ]
  },
  {
   "cell_type": "code",
   "execution_count": 102,
   "metadata": {
    "colab": {
     "base_uri": "https://localhost:8080/",
     "height": 367
    },
    "id": "7WGUy5RpBmsR",
    "outputId": "b84c7219-63fa-4a8a-c301-b388b4a92751"
   },
   "outputs": [
    {
     "data": {
      "text/plain": [
       "Text(0, 0.5, 'Tweet Count')"
      ]
     },
     "execution_count": 102,
     "metadata": {
      "tags": []
     },
     "output_type": "execute_result"
    },
    {
     "data": {
      "image/png": "[encoded data removed]",
      "text/plain": [
       "<Figure size 720x360 with 1 Axes>"
      ]
     },
     "metadata": {
      "needs_background": "light",
      "tags": []
     },
     "output_type": "display_data"
    }
   ],
   "source": [
    "#Distribution of tweet count by sentiment over the time period\n",
    "df.groupby(['date','Sentiment_type'])['renderedContent'].count().unstack().plot(kind='area', figsize=(10,5))\n",
    "plt.title('Count of Tweets')\n",
    "plt.ylabel('Tweet Count')"
   ]
  },
  {
   "cell_type": "code",
   "execution_count": 103,
   "metadata": {
    "colab": {
     "base_uri": "https://localhost:8080/",
     "height": 350
    },
    "id": "DfwbIPZGB_ia",
    "outputId": "31b94cf5-4a68-49e0-ef2c-346dd75c00fb"
   },
   "outputs": [
    {
     "data": {
      "text/plain": [
       "(array([3.606e+03, 5.104e+03, 3.358e+03, 3.621e+03, 6.300e+01, 1.500e+01,\n",
       "        0.000e+00, 0.000e+00, 1.000e+00, 1.000e+00]),\n",
       " array([  8. ,  93.2, 178.4, 263.6, 348.8, 434. , 519.2, 604.4, 689.6,\n",
       "        774.8, 860. ]),\n",
       " <a list of 10 Patch objects>)"
      ]
     },
     "execution_count": 103,
     "metadata": {
      "tags": []
     },
     "output_type": "execute_result"
    },
    {
     "data": {
      "image/png": "[encoded data removed]",
      "text/plain": [
       "<Figure size 432x288 with 1 Axes>"
      ]
     },
     "metadata": {
      "needs_background": "light",
      "tags": []
     },
     "output_type": "display_data"
    }
   ],
   "source": [
    "plt.hist(df['renderedContent'].str.len())"
   ]
  },
  {
   "cell_type": "code",
   "execution_count": 104,
   "metadata": {
    "colab": {
     "base_uri": "https://localhost:8080/",
     "height": 297
    },
    "id": "_RtQobXZEeVa",
    "outputId": "962ddf44-e5b6-479f-8c0f-e3a5f8d4e1df"
   },
   "outputs": [
    {
     "data": {
      "text/plain": [
       "<matplotlib.axes._subplots.AxesSubplot at 0x7fc4e72803d0>"
      ]
     },
     "execution_count": 104,
     "metadata": {
      "tags": []
     },
     "output_type": "execute_result"
    },
    {
     "data": {
      "image/png": "[encoded data removed]",
      "text/plain": [
       "<Figure size 432x288 with 1 Axes>"
      ]
     },
     "metadata": {
      "needs_background": "light",
      "tags": []
     },
     "output_type": "display_data"
    }
   ],
   "source": [
    "sns.distplot(sentiment_count)"
   ]
  },
  {
   "cell_type": "code",
   "execution_count": 105,
   "metadata": {
    "colab": {
     "base_uri": "https://localhost:8080/",
     "height": 743
    },
    "id": "FvQ6XXjA-wCR",
    "outputId": "588f51fb-6c44-4595-8686-70081ae74ef2"
   },
   "outputs": [
    {
     "data": {
      "text/plain": [
       "<seaborn.axisgrid.PairGrid at 0x7fc4e7279810>"
      ]
     },
     "execution_count": 105,
     "metadata": {
      "tags": []
     },
     "output_type": "execute_result"
    },
    {
     "data": {
      "image/png": "[encoded data removed]",
      "text/plain": [
       "<Figure size 766x720 with 20 Axes>"
      ]
     },
     "metadata": {
      "needs_background": "light",
      "tags": []
     },
     "output_type": "display_data"
    }
   ],
   "source": [
    "sns.pairplot(df,'target')"
   ]
  },
  {
   "cell_type": "code",
   "execution_count": 106,
   "metadata": {
    "colab": {
     "base_uri": "https://localhost:8080/"
    },
    "id": "KBB7N684Ev1T",
    "outputId": "23954119-a287-4baa-dee2-409c6b29e189"
   },
   "outputs": [
    {
     "data": {
      "text/plain": [
       "10"
      ]
     },
     "execution_count": 106,
     "metadata": {
      "tags": []
     },
     "output_type": "execute_result"
    }
   ],
   "source": [
    "Tweet_count.max()"
   ]
  },
  {
   "cell_type": "code",
   "execution_count": 107,
   "metadata": {
    "colab": {
     "base_uri": "https://localhost:8080/"
    },
    "id": "jTcgFUBML7Sa",
    "outputId": "27a22bfa-e9b4-4904-9a6a-32037fe5b481"
   },
   "outputs": [
    {
     "data": {
      "text/plain": [
       "1"
      ]
     },
     "execution_count": 107,
     "metadata": {
      "tags": []
     },
     "output_type": "execute_result"
    }
   ],
   "source": [
    "Tweet_count.min()"
   ]
  },
  {
   "cell_type": "code",
   "execution_count": 107,
   "metadata": {
    "id": "G4TDyckavQ9i"
   },
   "outputs": [],
   "source": []
  },
  {
   "cell_type": "markdown",
   "metadata": {
    "id": "R7ig-EPj6Woq"
   },
   "source": [
    "Text Preprocessing"
   ]
  },
  {
   "cell_type": "code",
   "execution_count": 44,
   "metadata": {
    "id": "0QriCeZb6ZIw"
   },
   "outputs": [],
   "source": [
    "import re\n",
    "\n",
    "def preprocess_text(text):\n",
    "    #lower case\n",
    "    text = text.lower()\n",
    "    \n",
    "    #replace links with \" \"\n",
    "    text = re.sub(r\"http\\S+\", \" \", text)\n",
    "\n",
    "    #replace mentions with \" \"\n",
    "    text = re.sub(r\"@\\S+\", \" \", text)\n",
    "\n",
    "    #replace hashtags with \" \"\n",
    "    text = re.sub(r\"#\\S+\", \" \", text)\n",
    "\n",
    "    #replacing .com with \" \"\n",
    "    text = re.sub(r\".com\\S+\", \" \", text)\n",
    "\n",
    "    #dealing with contractions\n",
    "    text = re.sub(r\"won't\\S+\", \" would not\", text)\n",
    "\n",
    "    #removing space from word\n",
    "    text = [word.strip() for word in text.split()]\n",
    "\n",
    "    #removing words less than 2 characters\n",
    "    text = [word for word in text if len(word)>2]\n",
    "\n",
    "    #removing twitter amp\n",
    "    text = [word for word in text if word != 'amp']\n",
    "\n",
    "\n",
    "    text = ' '.join(text)\n",
    "    return text"
   ]
  },
  {
   "cell_type": "code",
   "execution_count": 109,
   "metadata": {
    "id": "5wIMFXgw8pz2"
   },
   "outputs": [],
   "source": [
    "df['tweet']=df['renderedContent'].apply(preprocess_text)"
   ]
  },
  {
   "cell_type": "code",
   "execution_count": 110,
   "metadata": {
    "colab": {
     "base_uri": "https://localhost:8080/",
     "height": 289
    },
    "id": "ka_9mDPr-u1A",
    "outputId": "f5583f3c-9456-4bbf-d98e-7b3bdb793cea"
   },
   "outputs": [
    {
     "data": {
      "text/html": [
       "<div>\n",
       "<style scoped>\n",
       "    .dataframe tbody tr th:only-of-type {\n",
       "        vertical-align: middle;\n",
       "    }\n",
       "\n",
       "    .dataframe tbody tr th {\n",
       "        vertical-align: top;\n",
       "    }\n",
       "\n",
       "    .dataframe thead th {\n",
       "        text-align: right;\n",
       "    }\n",
       "</style>\n",
       "<table border=\"1\" class=\"dataframe\">\n",
       "  <thead>\n",
       "    <tr style=\"text-align: right;\">\n",
       "      <th></th>\n",
       "      <th>date</th>\n",
       "      <th>renderedContent</th>\n",
       "      <th>replyCount</th>\n",
       "      <th>retweetCount</th>\n",
       "      <th>likeCount</th>\n",
       "      <th>quoteCount</th>\n",
       "      <th>Sentiment_type</th>\n",
       "      <th>tweet</th>\n",
       "      <th>target</th>\n",
       "    </tr>\n",
       "  </thead>\n",
       "  <tbody>\n",
       "    <tr>\n",
       "      <th>0</th>\n",
       "      <td>2021-02-27 23:57:28+00:00</td>\n",
       "      <td>The Rivers State GOC, commander of the 6th Div...</td>\n",
       "      <td>0</td>\n",
       "      <td>0</td>\n",
       "      <td>0</td>\n",
       "      <td>0</td>\n",
       "      <td>Negative</td>\n",
       "      <td>the rivers state goc, the 6th division who the...</td>\n",
       "      <td>-1</td>\n",
       "    </tr>\n",
       "    <tr>\n",
       "      <th>1</th>\n",
       "      <td>2021-02-27 23:56:21+00:00</td>\n",
       "      <td>#EndSars: FG Created Over N25B To Supplement T...</td>\n",
       "      <td>0</td>\n",
       "      <td>0</td>\n",
       "      <td>0</td>\n",
       "      <td>0</td>\n",
       "      <td>Neutral</td>\n",
       "      <td>created over n25b supplement the plan for yout...</td>\n",
       "      <td>0</td>\n",
       "    </tr>\n",
       "    <tr>\n",
       "      <th>2</th>\n",
       "      <td>2021-02-27 23:56:07+00:00</td>\n",
       "      <td>I repeat again this @MBuhari regime has shown ...</td>\n",
       "      <td>2</td>\n",
       "      <td>0</td>\n",
       "      <td>2</td>\n",
       "      <td>0</td>\n",
       "      <td>Neutral</td>\n",
       "      <td>repeat again this regime has shown government ...</td>\n",
       "      <td>0</td>\n",
       "    </tr>\n",
       "    <tr>\n",
       "      <th>3</th>\n",
       "      <td>2021-02-27 23:53:24+00:00</td>\n",
       "      <td>Bandits actions are being justified as mere ac...</td>\n",
       "      <td>0</td>\n",
       "      <td>1</td>\n",
       "      <td>3</td>\n",
       "      <td>0</td>\n",
       "      <td>Positive</td>\n",
       "      <td>bandits actions are being justified mere actio...</td>\n",
       "      <td>1</td>\n",
       "    </tr>\n",
       "    <tr>\n",
       "      <th>4</th>\n",
       "      <td>2021-02-27 23:51:00+00:00</td>\n",
       "      <td>#EndSARS #EndBadGoveranceInNigeria twitter.com...</td>\n",
       "      <td>0</td>\n",
       "      <td>1</td>\n",
       "      <td>1</td>\n",
       "      <td>0</td>\n",
       "      <td>Neutral</td>\n",
       "      <td>twitter</td>\n",
       "      <td>0</td>\n",
       "    </tr>\n",
       "  </tbody>\n",
       "</table>\n",
       "</div>"
      ],
      "text/plain": [
       "                       date  ... target\n",
       "0 2021-02-27 23:57:28+00:00  ...     -1\n",
       "1 2021-02-27 23:56:21+00:00  ...      0\n",
       "2 2021-02-27 23:56:07+00:00  ...      0\n",
       "3 2021-02-27 23:53:24+00:00  ...      1\n",
       "4 2021-02-27 23:51:00+00:00  ...      0\n",
       "\n",
       "[5 rows x 9 columns]"
      ]
     },
     "execution_count": 110,
     "metadata": {
      "tags": []
     },
     "output_type": "execute_result"
    }
   ],
   "source": [
    "df.head()"
   ]
  },
  {
   "cell_type": "code",
   "execution_count": 111,
   "metadata": {
    "id": "zazUoFK2A98W"
   },
   "outputs": [],
   "source": [
    "to_drop=['renderedContent','date','replyCount','retweetCount','likeCount','quoteCount']"
   ]
  },
  {
   "cell_type": "code",
   "execution_count": 112,
   "metadata": {
    "id": "ZDT-J4EdEa3F"
   },
   "outputs": [],
   "source": [
    "df.drop(to_drop,axis=1, inplace=True)"
   ]
  },
  {
   "cell_type": "code",
   "execution_count": 113,
   "metadata": {
    "colab": {
     "base_uri": "https://localhost:8080/",
     "height": 204
    },
    "id": "pJRKpWwiEkmp",
    "outputId": "36b74526-05fd-49bd-cf5a-ade0e783b773"
   },
   "outputs": [
    {
     "data": {
      "text/html": [
       "<div>\n",
       "<style scoped>\n",
       "    .dataframe tbody tr th:only-of-type {\n",
       "        vertical-align: middle;\n",
       "    }\n",
       "\n",
       "    .dataframe tbody tr th {\n",
       "        vertical-align: top;\n",
       "    }\n",
       "\n",
       "    .dataframe thead th {\n",
       "        text-align: right;\n",
       "    }\n",
       "</style>\n",
       "<table border=\"1\" class=\"dataframe\">\n",
       "  <thead>\n",
       "    <tr style=\"text-align: right;\">\n",
       "      <th></th>\n",
       "      <th>Sentiment_type</th>\n",
       "      <th>tweet</th>\n",
       "      <th>target</th>\n",
       "    </tr>\n",
       "  </thead>\n",
       "  <tbody>\n",
       "    <tr>\n",
       "      <th>0</th>\n",
       "      <td>Negative</td>\n",
       "      <td>the rivers state goc, the 6th division who the...</td>\n",
       "      <td>-1</td>\n",
       "    </tr>\n",
       "    <tr>\n",
       "      <th>1</th>\n",
       "      <td>Neutral</td>\n",
       "      <td>created over n25b supplement the plan for yout...</td>\n",
       "      <td>0</td>\n",
       "    </tr>\n",
       "    <tr>\n",
       "      <th>2</th>\n",
       "      <td>Neutral</td>\n",
       "      <td>repeat again this regime has shown government ...</td>\n",
       "      <td>0</td>\n",
       "    </tr>\n",
       "    <tr>\n",
       "      <th>3</th>\n",
       "      <td>Positive</td>\n",
       "      <td>bandits actions are being justified mere actio...</td>\n",
       "      <td>1</td>\n",
       "    </tr>\n",
       "    <tr>\n",
       "      <th>4</th>\n",
       "      <td>Neutral</td>\n",
       "      <td>twitter</td>\n",
       "      <td>0</td>\n",
       "    </tr>\n",
       "  </tbody>\n",
       "</table>\n",
       "</div>"
      ],
      "text/plain": [
       "  Sentiment_type                                              tweet  target\n",
       "0       Negative  the rivers state goc, the 6th division who the...      -1\n",
       "1        Neutral  created over n25b supplement the plan for yout...       0\n",
       "2        Neutral  repeat again this regime has shown government ...       0\n",
       "3       Positive  bandits actions are being justified mere actio...       1\n",
       "4        Neutral                                            twitter       0"
      ]
     },
     "execution_count": 113,
     "metadata": {
      "tags": []
     },
     "output_type": "execute_result"
    }
   ],
   "source": [
    "df.head()"
   ]
  },
  {
   "cell_type": "code",
   "execution_count": 120,
   "metadata": {
    "id": "tQR5XAD2IPxC"
   },
   "outputs": [],
   "source": [
    "from sklearn.model_selection import train_test_split"
   ]
  },
  {
   "cell_type": "code",
   "execution_count": 139,
   "metadata": {
    "id": "nZSpHw1eIlZ9"
   },
   "outputs": [],
   "source": [
    "index = df.index\n",
    "df['random_number'] = np.random.randn(len(index))\n",
    "train = df[df['random_number'] <= 0.8]\n",
    "test = df[df['random_number'] > 0.8]"
   ]
  },
  {
   "cell_type": "code",
   "execution_count": 140,
   "metadata": {
    "id": "4Jo-jHI3Iyx8"
   },
   "outputs": [],
   "source": [
    "from sklearn.feature_extraction.text import TfidfVectorizer\n",
    "from sklearn.linear_model import LogisticRegression"
   ]
  },
  {
   "cell_type": "code",
   "execution_count": 145,
   "metadata": {
    "id": "o7A_k5CeLugS"
   },
   "outputs": [],
   "source": [
    "vectorizer= TfidfVectorizer(use_idf=True, ngram_range=(1,2))\n",
    "\n",
    "train_matrix = vectorizer.fit_transform(train['tweet'])\n",
    "test_matrix = vectorizer.transform(test['tweet'])"
   ]
  },
  {
   "cell_type": "code",
   "execution_count": 146,
   "metadata": {
    "id": "kJ_7PGdZMUEd"
   },
   "outputs": [],
   "source": [
    "Lr=LogisticRegression()"
   ]
  },
  {
   "cell_type": "code",
   "execution_count": 147,
   "metadata": {
    "id": "wapnIe-1MiPd"
   },
   "outputs": [],
   "source": [
    "x_train = train_matrix\n",
    "x_test = test_matrix\n",
    "y_train = train['target']\n",
    "y_test = test['target']"
   ]
  },
  {
   "cell_type": "code",
   "execution_count": 148,
   "metadata": {
    "colab": {
     "base_uri": "https://localhost:8080/"
    },
    "id": "1E9CwMSKNsfN",
    "outputId": "e451c703-7bf8-48df-f155-7463215e9f51"
   },
   "outputs": [
    {
     "data": {
      "text/plain": [
       "((12397, 116565), (3372, 116565), (12397,), (3372,))"
      ]
     },
     "execution_count": 148,
     "metadata": {
      "tags": []
     },
     "output_type": "execute_result"
    }
   ],
   "source": [
    "x_train.shape,x_test.shape,y_train.shape,y_test.shape"
   ]
  },
  {
   "cell_type": "code",
   "execution_count": 149,
   "metadata": {
    "colab": {
     "base_uri": "https://localhost:8080/"
    },
    "id": "jlV6aCfcM43h",
    "outputId": "a4b2d0dd-d7a6-44ff-a7f5-7798d495703d"
   },
   "outputs": [
    {
     "data": {
      "text/plain": [
       "LogisticRegression(C=1.0, class_weight=None, dual=False, fit_intercept=True,\n",
       "                   intercept_scaling=1, l1_ratio=None, max_iter=100,\n",
       "                   multi_class='auto', n_jobs=None, penalty='l2',\n",
       "                   random_state=None, solver='lbfgs', tol=0.0001, verbose=0,\n",
       "                   warm_start=False)"
      ]
     },
     "execution_count": 149,
     "metadata": {
      "tags": []
     },
     "output_type": "execute_result"
    }
   ],
   "source": [
    "Lr.fit(x_train,y_train)"
   ]
  },
  {
   "cell_type": "code",
   "execution_count": 150,
   "metadata": {
    "id": "Ca9AFqERM9zP"
   },
   "outputs": [],
   "source": [
    "prediction = Lr.predict(test_matrix)"
   ]
  },
  {
   "cell_type": "code",
   "execution_count": 151,
   "metadata": {
    "id": "sDTJsOu0NJI8"
   },
   "outputs": [],
   "source": [
    "from sklearn.metrics import classification_report\n",
    "accuracy = classification_report(prediction,y_test)"
   ]
  },
  {
   "cell_type": "code",
   "execution_count": 153,
   "metadata": {
    "colab": {
     "base_uri": "https://localhost:8080/"
    },
    "id": "1jawzaxhPVxS",
    "outputId": "8db861db-eaf7-4513-c1dc-eda9ad74b5cc"
   },
   "outputs": [
    {
     "name": "stdout",
     "output_type": "stream",
     "text": [
      "              precision    recall  f1-score   support\n",
      "\n",
      "          -1       0.51      0.80      0.62       402\n",
      "           0       0.84      0.85      0.84      1574\n",
      "           1       0.86      0.71      0.78      1396\n",
      "\n",
      "    accuracy                           0.78      3372\n",
      "   macro avg       0.74      0.78      0.75      3372\n",
      "weighted avg       0.81      0.78      0.79      3372\n",
      "\n"
     ]
    }
   ],
   "source": [
    "print(accuracy)"
   ]
  },
  {
   "cell_type": "code",
   "execution_count": null,
   "metadata": {
    "id": "fqrTvUT9PW7N"
   },
   "outputs": [],
   "source": []
  }
 ],
 "metadata": {
  "colab": {
   "collapsed_sections": [],
   "name": "Week 1 - Sentiment Analysis.ipynb",
   "provenance": []
  },
  "kernelspec": {
   "display_name": "Python 3",
   "language": "python",
   "name": "python3"
  },
  "language_info": {
   "codemirror_mode": {
    "name": "ipython",
    "version": 3
   },
   "file_extension": ".py",
   "mimetype": "text/x-python",
   "name": "python",
   "nbconvert_exporter": "python",
   "pygments_lexer": "ipython3",
   "version": "3.7.7"
  }
 },
 "nbformat": 4,
 "nbformat_minor": 1
}
